{
 "cells": [
  {
   "cell_type": "code",
   "execution_count": 1,
   "id": "410a3238-06fd-448c-9ffc-6d2516cc53ee",
   "metadata": {},
   "outputs": [
    {
     "name": "stderr",
     "output_type": "stream",
     "text": [
      "/home/dbanerjee/.anaconda3/envs/md/lib/python3.10/site-packages/tqdm/auto.py:22: TqdmWarning: IProgress not found. Please update jupyter and ipywidgets. See https://ipywidgets.readthedocs.io/en/stable/user_install.html\n",
      "  from .autonotebook import tqdm as notebook_tqdm\n"
     ]
    }
   ],
   "source": [
    "import numpy as np\n",
    "import matplotlib.pyplot as plt\n",
    "import sklearn\n",
    "import MDAnalysis as mda"
   ]
  },
  {
   "attachments": {},
   "cell_type": "markdown",
   "id": "9e3ddb44",
   "metadata": {},
   "source": [
    "# Process data using MDAnalysis"
   ]
  },
  {
   "cell_type": "code",
   "execution_count": 28,
   "id": "eb44efa2",
   "metadata": {},
   "outputs": [
    {
     "name": "stderr",
     "output_type": "stream",
     "text": [
      "/home/dbanerjee/.anaconda3/envs/md/lib/python3.10/site-packages/MDAnalysis/topology/PDBParser.py:317: UserWarning: Element information is missing, elements attribute will not be populated. If needed these can be guessed using MDAnalysis.topology.guessers.\n",
      "  warnings.warn(\"Element information is missing, elements attribute \"\n"
     ]
    }
   ],
   "source": [
    "u_og =  mda.Universe(\"first.pdb\",\"og.pdb\")\n",
    "ca_og = u_og.select_atoms(\"name CA\")\n",
    "\n",
    "assert ca_og.universe.trajectory.frame == 0\n",
    "\n",
    "n_frames = ca_og.universe.trajectory.n_frames\n",
    "n_atoms = ca_og.n_atoms\n",
    "frame_start = 0\n",
    "frame_end = n_frames"
   ]
  },
  {
   "cell_type": "code",
   "execution_count": 37,
   "id": "44e822dc",
   "metadata": {},
   "outputs": [],
   "source": [
    "ca_og_pos = np.zeros((n_frames, 3*n_atoms))\n",
    "\n",
    "for i,_ in enumerate(ca_og.universe.trajectory[frame_start:frame_end:1]):\n",
    "    tmp = ca_og.positions.flatten()\n",
    "    ca_og_pos[i,:] = tmp"
   ]
  },
  {
   "cell_type": "code",
   "execution_count": 36,
   "id": "a4750f27",
   "metadata": {},
   "outputs": [
    {
     "data": {
      "text/plain": [
       "(1000, 30)"
      ]
     },
     "execution_count": 36,
     "metadata": {},
     "output_type": "execute_result"
    }
   ],
   "source": []
  },
  {
   "cell_type": "code",
   "execution_count": null,
   "id": "d5de0a8d",
   "metadata": {},
   "outputs": [],
   "source": []
  }
 ],
 "metadata": {
  "kernelspec": {
   "display_name": "md",
   "language": "python",
   "name": "python3"
  },
  "language_info": {
   "codemirror_mode": {
    "name": "ipython",
    "version": 3
   },
   "file_extension": ".py",
   "mimetype": "text/x-python",
   "name": "python",
   "nbconvert_exporter": "python",
   "pygments_lexer": "ipython3",
   "version": "3.10.6"
  },
  "vscode": {
   "interpreter": {
    "hash": "5c149386765a39057b73ae05408f4b30781bb90ba86e1475050240d06db59ea8"
   }
  }
 },
 "nbformat": 4,
 "nbformat_minor": 5
}
